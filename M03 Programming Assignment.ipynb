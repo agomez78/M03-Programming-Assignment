{
 "cells": [
  {
   "cell_type": "code",
   "execution_count": 3,
   "id": "7241811e",
   "metadata": {},
   "outputs": [
    {
     "name": "stdout",
     "output_type": "stream",
     "text": [
      "['mozzarella', 'cinderella', 'salmonella']\n"
     ]
    }
   ],
   "source": [
    "# 7.4\n",
    "\n",
    "# Create list with 3 strings as elements\n",
    "things = [\"mozzarella\", \"cinderella\", \"salmonella\"]\n",
    "\n",
    "# Print list\n",
    "print(things)"
   ]
  },
  {
   "cell_type": "code",
   "execution_count": 4,
   "id": "735f2974",
   "metadata": {},
   "outputs": [
    {
     "name": "stdout",
     "output_type": "stream",
     "text": [
      "['mozzarella', 'Cinderella', 'salmonella']\n"
     ]
    }
   ],
   "source": [
    "# 7.5\n",
    "\n",
    "# Create list with 3 strings as elements\n",
    "things = [\"mozzarella\", \"cinderella\", \"salmonella\"]\n",
    "\n",
    "# Capitalize first letter of selected element\n",
    "things[1] = things[1].capitalize()\n",
    "\n",
    "# Print result\n",
    "print(things)\n",
    "\n",
    "# The element in the list did change"
   ]
  },
  {
   "cell_type": "code",
   "execution_count": 5,
   "id": "90e4b8cd",
   "metadata": {},
   "outputs": [
    {
     "name": "stdout",
     "output_type": "stream",
     "text": [
      "['MOZZARELLA', 'cinderella', 'salmonella']\n"
     ]
    }
   ],
   "source": [
    "# 7.6\n",
    "\n",
    "# Create list with 3 strings as elements\n",
    "things = [\"mozzarella\", \"cinderella\", \"salmonella\"]\n",
    "\n",
    "# Capitalize first letter of selected element\n",
    "things[0] = things[0].upper()\n",
    "\n",
    "# Print result\n",
    "print(things)\n",
    "\n",
    "# The element in the list did change"
   ]
  },
  {
   "cell_type": "code",
   "execution_count": 6,
   "id": "74c407b6",
   "metadata": {},
   "outputs": [
    {
     "name": "stdout",
     "output_type": "stream",
     "text": [
      "['mozzarella', 'cinderella']\n"
     ]
    }
   ],
   "source": [
    "# 7.7\n",
    "\n",
    "# Create list with 3 strings as elements\n",
    "things = [\"mozzarella\", \"cinderella\", \"salmonella\"]\n",
    "\n",
    "# Delete selected element\n",
    "del things[2]\n",
    "\n",
    "# Print result\n",
    "print(things)\n",
    "\n"
   ]
  },
  {
   "cell_type": "code",
   "execution_count": 8,
   "id": "d40367aa",
   "metadata": {},
   "outputs": [],
   "source": [
    "# 9.1\n",
    "\n",
    "# Define function that returns a list\n",
    "def good():\n",
    "    return ['Harry', 'Ron', 'Hermione']"
   ]
  },
  {
   "cell_type": "code",
   "execution_count": 9,
   "id": "bdb9420c",
   "metadata": {},
   "outputs": [
    {
     "name": "stdout",
     "output_type": "stream",
     "text": [
      "The third odd number is: 5\n"
     ]
    }
   ],
   "source": [
    "# 9.2\n",
    "\n",
    "def get_odds():\n",
    "    for number in range(1, 10, 2):  # Generate odd numbers from 1 to 9 (inclusive) with a step of 2\n",
    "        yield number\n",
    "\n",
    "# Use a for loop to find and print the third value returned by the generator function\n",
    "for i, number in enumerate(get_odds()):\n",
    "    if i == 2:\n",
    "        print(\"The third odd number is:\", number)\n",
    "        break"
   ]
  },
  {
   "cell_type": "code",
   "execution_count": null,
   "id": "232fa6bd",
   "metadata": {},
   "outputs": [],
   "source": []
  }
 ],
 "metadata": {
  "kernelspec": {
   "display_name": "Python 3 (ipykernel)",
   "language": "python",
   "name": "python3"
  },
  "language_info": {
   "codemirror_mode": {
    "name": "ipython",
    "version": 3
   },
   "file_extension": ".py",
   "mimetype": "text/x-python",
   "name": "python",
   "nbconvert_exporter": "python",
   "pygments_lexer": "ipython3",
   "version": "3.11.5"
  }
 },
 "nbformat": 4,
 "nbformat_minor": 5
}
